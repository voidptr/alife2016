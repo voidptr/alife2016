{
 "cells": [
  {
   "cell_type": "markdown",
   "metadata": {},
   "source": [
    "## Functional and Vestigial Sites"
   ]
  },
  {
   "cell_type": "code",
   "execution_count": null,
   "metadata": {
    "collapsed": true
   },
   "outputs": [],
   "source": []
  },
  {
   "cell_type": "markdown",
   "metadata": {},
   "source": [
    "## To generate the functional sites\n",
    "\n",
    ">rosiec@13-42-76:/Volumes/rosiec/__research/devolab_research/evolution_of_modularity/raw_data/082/INTERTWINED/last_common_ancestor_mutation_landscapes$ python ../../../../../scripts/graph_generation/bar_chart_from_csv.py \n",
    "--error \n",
    "--groups 3 \n",
    "--xticks \"Static (control),Benign,Hostile\" \n",
    "--columns \"1,2,3\" \n",
    "--legend \"Fluctuating Task Only,Backbone Task Only,Both Tasks\" \n",
    "--pair \n",
    "--title \"Vestigial Site Count by Task and Treatment Environment\" \n",
    "--ylabel \"Vestigial Sites\" \n",
    "--xlabel \"Treatment Environment\" \n",
    "--separator \",\" \n",
    "degenerate_sites__intertwined___nototal.png \n",
    "c*_degenerate_site_count.csv \n",
    "n*_degenerate_site_count.csv \n",
    "p*_degenerate_site_count.csv"
   ]
  },
  {
   "cell_type": "code",
   "execution_count": 63,
   "metadata": {
    "collapsed": false
   },
   "outputs": [
    {
     "data": {
      "text/plain": [
       "u'0.17.1'"
      ]
     },
     "execution_count": 63,
     "metadata": {},
     "output_type": "execute_result"
    }
   ],
   "source": [
    "import pandas as pd\n",
    "import numpy as np\n",
    "import matplotlib.pyplot as plt\n",
    "from IPython.display import Image as ipyImage\n",
    "pd.__version__"
   ]
  },
  {
   "cell_type": "code",
   "execution_count": 3,
   "metadata": {
    "collapsed": true
   },
   "outputs": [],
   "source": [
    "%matplotlib inline"
   ]
  },
  {
   "cell_type": "code",
   "execution_count": 4,
   "metadata": {
    "collapsed": false
   },
   "outputs": [],
   "source": [
    "import scipy  \n",
    "from scipy import stats\n",
    "import scikits.bootstrap as bootstrap  "
   ]
  },
  {
   "cell_type": "code",
   "execution_count": 5,
   "metadata": {
    "collapsed": false
   },
   "outputs": [
    {
     "data": {
      "text/plain": [
       "'0.17.0'"
      ]
     },
     "execution_count": 5,
     "metadata": {},
     "output_type": "execute_result"
    }
   ],
   "source": [
    "scipy.__version__"
   ]
  },
  {
   "cell_type": "code",
   "execution_count": 6,
   "metadata": {
    "collapsed": false
   },
   "outputs": [
    {
     "name": "stdout",
     "output_type": "stream",
     "text": [
      "\u001b[0m\u001b[01;32mcombined_degenerate_site_and_mutation_landscape_metrics__2step.csv\u001b[0m*\r\n",
      "\u001b[01;32mcombined_degenerate_site_and_mutation_landscape_metrics.csv\u001b[0m*\r\n",
      "\u001b[01;32mcontrol_intertwined_active_site_count.csv\u001b[0m*\r\n",
      "\u001b[01;32mcontrol_intertwined__combined_degenerate_site_and_mutation_landscape_metrics.csv\u001b[0m*\r\n",
      "\u001b[01;32mcontrol_intertwined__combined_degenerate_site_and_mutation_landscape_metrics__plus_2step.csv\u001b[0m\u001b[K*\r\n",
      "control_intertwined_degenerate_site_count.csv\r\n",
      "\u001b[01;32mnoreward_intertwined_active_site_count.csv\u001b[0m*\r\n",
      "\u001b[01;32mnoreward_intertwined__combined_degenerate_site_and_mutation_landscape_metrics.csv\u001b[0m\u001b[K*\r\n",
      "\u001b[01;32mnoreward_intertwined__combined_degenerate_site_and_mutation_landscape_metrics__plus_2step.csv\u001b[0m\u001b[K*\r\n",
      "noreward_intertwined_degenerate_site_count.csv\r\n",
      "\u001b[01;32mpunish_intertwined_active_site_count.csv\u001b[0m*\r\n",
      "\u001b[01;32mpunish_intertwined__combined_degenerate_site_and_mutation_landscape_metrics.csv\u001b[0m*\r\n",
      "\u001b[01;32mpunish_intertwined__combined_degenerate_site_and_mutation_landscape_metrics__plus_2step.csv\u001b[0m\u001b[K*\r\n",
      "punish_intertwined_degenerate_site_count.csv\r\n"
     ]
    }
   ],
   "source": [
    "%ls func_and_vestigial_sites/"
   ]
  },
  {
   "cell_type": "code",
   "execution_count": 7,
   "metadata": {
    "collapsed": false,
    "scrolled": true
   },
   "outputs": [
    {
     "name": "stdout",
     "output_type": "stream",
     "text": [
      "0,0,1,1\r\n",
      "0,0,0,0\r\n",
      "0,0,0,0\r\n",
      "0,0,1,1\r\n",
      "0,0,1,1\r\n",
      "0,0,1,1\r\n",
      "0,0,2,2\r\n",
      "0,2,1,3\r\n",
      "0,0,0,0\r\n",
      "0,0,1,1\r\n"
     ]
    }
   ],
   "source": [
    "%cat func_and_vestigial_sites/control_intertwined_degenerate_site_count.csv | head"
   ]
  },
  {
   "cell_type": "code",
   "execution_count": 8,
   "metadata": {
    "collapsed": true
   },
   "outputs": [],
   "source": [
    "header_row=['Fluct','BB','Both','Total']"
   ]
  },
  {
   "cell_type": "code",
   "execution_count": 9,
   "metadata": {
    "collapsed": false
   },
   "outputs": [
    {
     "data": {
      "text/html": [
       "<div>\n",
       "<table border=\"1\" class=\"dataframe\">\n",
       "  <thead>\n",
       "    <tr style=\"text-align: right;\">\n",
       "      <th></th>\n",
       "      <th>Fluct</th>\n",
       "      <th>BB</th>\n",
       "      <th>Both</th>\n",
       "      <th>Total</th>\n",
       "    </tr>\n",
       "  </thead>\n",
       "  <tbody>\n",
       "    <tr>\n",
       "      <th>41</th>\n",
       "      <td>0</td>\n",
       "      <td>0</td>\n",
       "      <td>0</td>\n",
       "      <td>0</td>\n",
       "    </tr>\n",
       "    <tr>\n",
       "      <th>42</th>\n",
       "      <td>3</td>\n",
       "      <td>0</td>\n",
       "      <td>1</td>\n",
       "      <td>4</td>\n",
       "    </tr>\n",
       "    <tr>\n",
       "      <th>43</th>\n",
       "      <td>0</td>\n",
       "      <td>2</td>\n",
       "      <td>0</td>\n",
       "      <td>2</td>\n",
       "    </tr>\n",
       "    <tr>\n",
       "      <th>44</th>\n",
       "      <td>0</td>\n",
       "      <td>0</td>\n",
       "      <td>0</td>\n",
       "      <td>0</td>\n",
       "    </tr>\n",
       "    <tr>\n",
       "      <th>45</th>\n",
       "      <td>0</td>\n",
       "      <td>0</td>\n",
       "      <td>0</td>\n",
       "      <td>0</td>\n",
       "    </tr>\n",
       "  </tbody>\n",
       "</table>\n",
       "</div>"
      ],
      "text/plain": [
       "    Fluct  BB  Both  Total\n",
       "41      0   0     0      0\n",
       "42      3   0     1      4\n",
       "43      0   2     0      2\n",
       "44      0   0     0      0\n",
       "45      0   0     0      0"
      ]
     },
     "execution_count": 9,
     "metadata": {},
     "output_type": "execute_result"
    }
   ],
   "source": [
    "\n",
    "ctrl_degen=pd.read_csv(\"func_and_vestigial_sites/control_intertwined_degenerate_site_count.csv\", names=header_row)\n",
    "ctrl_degen.head()\n",
    "ctrl_degen.tail()"
   ]
  },
  {
   "cell_type": "code",
   "execution_count": 10,
   "metadata": {
    "collapsed": false
   },
   "outputs": [
    {
     "data": {
      "text/html": [
       "<div>\n",
       "<table border=\"1\" class=\"dataframe\">\n",
       "  <thead>\n",
       "    <tr style=\"text-align: right;\">\n",
       "      <th></th>\n",
       "      <th>Fluct</th>\n",
       "      <th>BB</th>\n",
       "      <th>Both</th>\n",
       "      <th>Total</th>\n",
       "    </tr>\n",
       "  </thead>\n",
       "  <tbody>\n",
       "    <tr>\n",
       "      <th>37</th>\n",
       "      <td>2</td>\n",
       "      <td>0</td>\n",
       "      <td>0</td>\n",
       "      <td>2</td>\n",
       "    </tr>\n",
       "    <tr>\n",
       "      <th>38</th>\n",
       "      <td>3</td>\n",
       "      <td>1</td>\n",
       "      <td>1</td>\n",
       "      <td>5</td>\n",
       "    </tr>\n",
       "    <tr>\n",
       "      <th>39</th>\n",
       "      <td>0</td>\n",
       "      <td>0</td>\n",
       "      <td>0</td>\n",
       "      <td>0</td>\n",
       "    </tr>\n",
       "    <tr>\n",
       "      <th>40</th>\n",
       "      <td>1</td>\n",
       "      <td>0</td>\n",
       "      <td>3</td>\n",
       "      <td>4</td>\n",
       "    </tr>\n",
       "    <tr>\n",
       "      <th>41</th>\n",
       "      <td>1</td>\n",
       "      <td>1</td>\n",
       "      <td>1</td>\n",
       "      <td>3</td>\n",
       "    </tr>\n",
       "  </tbody>\n",
       "</table>\n",
       "</div>"
      ],
      "text/plain": [
       "    Fluct  BB  Both  Total\n",
       "37      2   0     0      2\n",
       "38      3   1     1      5\n",
       "39      0   0     0      0\n",
       "40      1   0     3      4\n",
       "41      1   1     1      3"
      ]
     },
     "execution_count": 10,
     "metadata": {},
     "output_type": "execute_result"
    }
   ],
   "source": [
    "noreward_degen=pd.read_csv(\"func_and_vestigial_sites/noreward_intertwined_degenerate_site_count.csv\", names=header_row)\n",
    "noreward_degen.tail()"
   ]
  },
  {
   "cell_type": "code",
   "execution_count": 11,
   "metadata": {
    "collapsed": false
   },
   "outputs": [
    {
     "data": {
      "text/html": [
       "<div>\n",
       "<table border=\"1\" class=\"dataframe\">\n",
       "  <thead>\n",
       "    <tr style=\"text-align: right;\">\n",
       "      <th></th>\n",
       "      <th>Fluct</th>\n",
       "      <th>BB</th>\n",
       "      <th>Both</th>\n",
       "      <th>Total</th>\n",
       "    </tr>\n",
       "  </thead>\n",
       "  <tbody>\n",
       "    <tr>\n",
       "      <th>42</th>\n",
       "      <td>4</td>\n",
       "      <td>0</td>\n",
       "      <td>0</td>\n",
       "      <td>4</td>\n",
       "    </tr>\n",
       "    <tr>\n",
       "      <th>43</th>\n",
       "      <td>3</td>\n",
       "      <td>1</td>\n",
       "      <td>0</td>\n",
       "      <td>4</td>\n",
       "    </tr>\n",
       "    <tr>\n",
       "      <th>44</th>\n",
       "      <td>13</td>\n",
       "      <td>1</td>\n",
       "      <td>0</td>\n",
       "      <td>14</td>\n",
       "    </tr>\n",
       "    <tr>\n",
       "      <th>45</th>\n",
       "      <td>2</td>\n",
       "      <td>0</td>\n",
       "      <td>1</td>\n",
       "      <td>3</td>\n",
       "    </tr>\n",
       "    <tr>\n",
       "      <th>46</th>\n",
       "      <td>2</td>\n",
       "      <td>2</td>\n",
       "      <td>1</td>\n",
       "      <td>5</td>\n",
       "    </tr>\n",
       "  </tbody>\n",
       "</table>\n",
       "</div>"
      ],
      "text/plain": [
       "    Fluct  BB  Both  Total\n",
       "42      4   0     0      4\n",
       "43      3   1     0      4\n",
       "44     13   1     0     14\n",
       "45      2   0     1      3\n",
       "46      2   2     1      5"
      ]
     },
     "execution_count": 11,
     "metadata": {},
     "output_type": "execute_result"
    }
   ],
   "source": [
    "punish_degen=pd.read_csv(\"func_and_vestigial_sites/punish_intertwined_degenerate_site_count.csv\", names=header_row)\n",
    "punish_degen.tail()"
   ]
  },
  {
   "cell_type": "code",
   "execution_count": 12,
   "metadata": {
    "collapsed": false
   },
   "outputs": [
    {
     "data": {
      "text/html": [
       "<div>\n",
       "<table border=\"1\" class=\"dataframe\">\n",
       "  <thead>\n",
       "    <tr style=\"text-align: right;\">\n",
       "      <th></th>\n",
       "      <th>Fluct</th>\n",
       "      <th>BB</th>\n",
       "      <th>Both</th>\n",
       "      <th>Total</th>\n",
       "    </tr>\n",
       "  </thead>\n",
       "  <tbody>\n",
       "    <tr>\n",
       "      <th>count</th>\n",
       "      <td>46.000000</td>\n",
       "      <td>46.000000</td>\n",
       "      <td>46.000000</td>\n",
       "      <td>46.000000</td>\n",
       "    </tr>\n",
       "    <tr>\n",
       "      <th>mean</th>\n",
       "      <td>0.108696</td>\n",
       "      <td>0.304348</td>\n",
       "      <td>0.413043</td>\n",
       "      <td>0.826087</td>\n",
       "    </tr>\n",
       "    <tr>\n",
       "      <th>std</th>\n",
       "      <td>0.482045</td>\n",
       "      <td>0.756294</td>\n",
       "      <td>0.580271</td>\n",
       "      <td>1.101602</td>\n",
       "    </tr>\n",
       "    <tr>\n",
       "      <th>min</th>\n",
       "      <td>0.000000</td>\n",
       "      <td>0.000000</td>\n",
       "      <td>0.000000</td>\n",
       "      <td>0.000000</td>\n",
       "    </tr>\n",
       "    <tr>\n",
       "      <th>25%</th>\n",
       "      <td>0.000000</td>\n",
       "      <td>0.000000</td>\n",
       "      <td>0.000000</td>\n",
       "      <td>0.000000</td>\n",
       "    </tr>\n",
       "    <tr>\n",
       "      <th>50%</th>\n",
       "      <td>0.000000</td>\n",
       "      <td>0.000000</td>\n",
       "      <td>0.000000</td>\n",
       "      <td>0.000000</td>\n",
       "    </tr>\n",
       "    <tr>\n",
       "      <th>75%</th>\n",
       "      <td>0.000000</td>\n",
       "      <td>0.000000</td>\n",
       "      <td>1.000000</td>\n",
       "      <td>1.000000</td>\n",
       "    </tr>\n",
       "    <tr>\n",
       "      <th>max</th>\n",
       "      <td>3.000000</td>\n",
       "      <td>3.000000</td>\n",
       "      <td>2.000000</td>\n",
       "      <td>4.000000</td>\n",
       "    </tr>\n",
       "  </tbody>\n",
       "</table>\n",
       "</div>"
      ],
      "text/plain": [
       "           Fluct         BB       Both      Total\n",
       "count  46.000000  46.000000  46.000000  46.000000\n",
       "mean    0.108696   0.304348   0.413043   0.826087\n",
       "std     0.482045   0.756294   0.580271   1.101602\n",
       "min     0.000000   0.000000   0.000000   0.000000\n",
       "25%     0.000000   0.000000   0.000000   0.000000\n",
       "50%     0.000000   0.000000   0.000000   0.000000\n",
       "75%     0.000000   0.000000   1.000000   1.000000\n",
       "max     3.000000   3.000000   2.000000   4.000000"
      ]
     },
     "execution_count": 12,
     "metadata": {},
     "output_type": "execute_result"
    }
   ],
   "source": [
    "ctrl_degen.describe()\n"
   ]
  },
  {
   "cell_type": "code",
   "execution_count": 13,
   "metadata": {
    "collapsed": false
   },
   "outputs": [
    {
     "data": {
      "text/html": [
       "<div>\n",
       "<table border=\"1\" class=\"dataframe\">\n",
       "  <thead>\n",
       "    <tr style=\"text-align: right;\">\n",
       "      <th></th>\n",
       "      <th>Fluct</th>\n",
       "      <th>BB</th>\n",
       "      <th>Both</th>\n",
       "      <th>Total</th>\n",
       "    </tr>\n",
       "  </thead>\n",
       "  <tbody>\n",
       "    <tr>\n",
       "      <th>count</th>\n",
       "      <td>42.000000</td>\n",
       "      <td>42.000000</td>\n",
       "      <td>42.000000</td>\n",
       "      <td>42.000000</td>\n",
       "    </tr>\n",
       "    <tr>\n",
       "      <th>mean</th>\n",
       "      <td>2.166667</td>\n",
       "      <td>0.500000</td>\n",
       "      <td>0.333333</td>\n",
       "      <td>3.000000</td>\n",
       "    </tr>\n",
       "    <tr>\n",
       "      <th>std</th>\n",
       "      <td>2.887455</td>\n",
       "      <td>0.773021</td>\n",
       "      <td>0.686691</td>\n",
       "      <td>3.068328</td>\n",
       "    </tr>\n",
       "    <tr>\n",
       "      <th>min</th>\n",
       "      <td>0.000000</td>\n",
       "      <td>0.000000</td>\n",
       "      <td>0.000000</td>\n",
       "      <td>0.000000</td>\n",
       "    </tr>\n",
       "    <tr>\n",
       "      <th>25%</th>\n",
       "      <td>0.000000</td>\n",
       "      <td>0.000000</td>\n",
       "      <td>0.000000</td>\n",
       "      <td>1.000000</td>\n",
       "    </tr>\n",
       "    <tr>\n",
       "      <th>50%</th>\n",
       "      <td>1.000000</td>\n",
       "      <td>0.000000</td>\n",
       "      <td>0.000000</td>\n",
       "      <td>2.000000</td>\n",
       "    </tr>\n",
       "    <tr>\n",
       "      <th>75%</th>\n",
       "      <td>3.000000</td>\n",
       "      <td>1.000000</td>\n",
       "      <td>0.000000</td>\n",
       "      <td>3.750000</td>\n",
       "    </tr>\n",
       "    <tr>\n",
       "      <th>max</th>\n",
       "      <td>11.000000</td>\n",
       "      <td>3.000000</td>\n",
       "      <td>3.000000</td>\n",
       "      <td>11.000000</td>\n",
       "    </tr>\n",
       "  </tbody>\n",
       "</table>\n",
       "</div>"
      ],
      "text/plain": [
       "           Fluct         BB       Both      Total\n",
       "count  42.000000  42.000000  42.000000  42.000000\n",
       "mean    2.166667   0.500000   0.333333   3.000000\n",
       "std     2.887455   0.773021   0.686691   3.068328\n",
       "min     0.000000   0.000000   0.000000   0.000000\n",
       "25%     0.000000   0.000000   0.000000   1.000000\n",
       "50%     1.000000   0.000000   0.000000   2.000000\n",
       "75%     3.000000   1.000000   0.000000   3.750000\n",
       "max    11.000000   3.000000   3.000000  11.000000"
      ]
     },
     "execution_count": 13,
     "metadata": {},
     "output_type": "execute_result"
    }
   ],
   "source": [
    "noreward_degen.describe()\n"
   ]
  },
  {
   "cell_type": "code",
   "execution_count": 14,
   "metadata": {
    "collapsed": false,
    "scrolled": false
   },
   "outputs": [
    {
     "data": {
      "text/html": [
       "<div>\n",
       "<table border=\"1\" class=\"dataframe\">\n",
       "  <thead>\n",
       "    <tr style=\"text-align: right;\">\n",
       "      <th></th>\n",
       "      <th>Fluct</th>\n",
       "      <th>BB</th>\n",
       "      <th>Both</th>\n",
       "      <th>Total</th>\n",
       "    </tr>\n",
       "  </thead>\n",
       "  <tbody>\n",
       "    <tr>\n",
       "      <th>count</th>\n",
       "      <td>47.000000</td>\n",
       "      <td>47.000000</td>\n",
       "      <td>47.000000</td>\n",
       "      <td>47.000000</td>\n",
       "    </tr>\n",
       "    <tr>\n",
       "      <th>mean</th>\n",
       "      <td>7.617021</td>\n",
       "      <td>0.787234</td>\n",
       "      <td>0.170213</td>\n",
       "      <td>8.574468</td>\n",
       "    </tr>\n",
       "    <tr>\n",
       "      <th>std</th>\n",
       "      <td>5.407536</td>\n",
       "      <td>1.196665</td>\n",
       "      <td>0.379883</td>\n",
       "      <td>5.232610</td>\n",
       "    </tr>\n",
       "    <tr>\n",
       "      <th>min</th>\n",
       "      <td>0.000000</td>\n",
       "      <td>0.000000</td>\n",
       "      <td>0.000000</td>\n",
       "      <td>0.000000</td>\n",
       "    </tr>\n",
       "    <tr>\n",
       "      <th>25%</th>\n",
       "      <td>3.000000</td>\n",
       "      <td>0.000000</td>\n",
       "      <td>0.000000</td>\n",
       "      <td>4.500000</td>\n",
       "    </tr>\n",
       "    <tr>\n",
       "      <th>50%</th>\n",
       "      <td>7.000000</td>\n",
       "      <td>0.000000</td>\n",
       "      <td>0.000000</td>\n",
       "      <td>8.000000</td>\n",
       "    </tr>\n",
       "    <tr>\n",
       "      <th>75%</th>\n",
       "      <td>10.500000</td>\n",
       "      <td>1.000000</td>\n",
       "      <td>0.000000</td>\n",
       "      <td>12.000000</td>\n",
       "    </tr>\n",
       "    <tr>\n",
       "      <th>max</th>\n",
       "      <td>27.000000</td>\n",
       "      <td>6.000000</td>\n",
       "      <td>1.000000</td>\n",
       "      <td>27.000000</td>\n",
       "    </tr>\n",
       "  </tbody>\n",
       "</table>\n",
       "</div>"
      ],
      "text/plain": [
       "           Fluct         BB       Both      Total\n",
       "count  47.000000  47.000000  47.000000  47.000000\n",
       "mean    7.617021   0.787234   0.170213   8.574468\n",
       "std     5.407536   1.196665   0.379883   5.232610\n",
       "min     0.000000   0.000000   0.000000   0.000000\n",
       "25%     3.000000   0.000000   0.000000   4.500000\n",
       "50%     7.000000   0.000000   0.000000   8.000000\n",
       "75%    10.500000   1.000000   0.000000  12.000000\n",
       "max    27.000000   6.000000   1.000000  27.000000"
      ]
     },
     "execution_count": 14,
     "metadata": {},
     "output_type": "execute_result"
    }
   ],
   "source": [
    "punish_degen.describe()"
   ]
  },
  {
   "cell_type": "code",
   "execution_count": 15,
   "metadata": {
    "collapsed": false
   },
   "outputs": [
    {
     "data": {
      "text/plain": [
       "[0.10869565217391304,\n",
       " 0.30434782608695654,\n",
       " 0.41304347826086957,\n",
       " 0.30434782608695654,\n",
       " 0.41304347826086951,\n",
       " 0.32608695652173908]"
      ]
     },
     "execution_count": 15,
     "metadata": {},
     "output_type": "execute_result"
    }
   ],
   "source": [
    "c_f_ci = bootstrap.ci(data=ctrl_degen['Fluct'], statfunction=scipy.mean, n_samples=10000)\n",
    "c_bb_ci = bootstrap.ci(data=ctrl_degen['BB'], statfunction=scipy.mean, n_samples=10000)\n",
    "c_both_ci = bootstrap.ci(data=ctrl_degen['Both'], statfunction=scipy.mean, n_samples=10000)\n",
    "ctrl_vals = [ctrl_degen['Fluct'].mean(), \n",
    "              ctrl_degen['BB'].mean(), \n",
    "              ctrl_degen['Both'].mean(),\n",
    "              c_f_ci[1]-c_f_ci[0], \n",
    "              c_bb_ci[1]-c_bb_ci[0], \n",
    "              c_both_ci[1]-c_both_ci[0]]\n",
    "ctrl_vals"
   ]
  },
  {
   "cell_type": "code",
   "execution_count": 16,
   "metadata": {
    "collapsed": false
   },
   "outputs": [
    {
     "data": {
      "text/plain": [
       "array([ 0.02173913,  0.32608696])"
      ]
     },
     "execution_count": 16,
     "metadata": {},
     "output_type": "execute_result"
    }
   ],
   "source": [
    "c_f_ci"
   ]
  },
  {
   "cell_type": "code",
   "execution_count": 17,
   "metadata": {
    "collapsed": false
   },
   "outputs": [
    {
     "data": {
      "text/plain": [
       "[2.1666666666666665,\n",
       " 0.5,\n",
       " 0.33333333333333331,\n",
       " 1.7857142857142858,\n",
       " 0.45238095238095244,\n",
       " 0.42857142857142855]"
      ]
     },
     "execution_count": 17,
     "metadata": {},
     "output_type": "execute_result"
    }
   ],
   "source": [
    "n_f_ci = bootstrap.ci(data=noreward_degen['Fluct'], statfunction=scipy.mean, n_samples=10000)\n",
    "n_bb_ci = bootstrap.ci(data=noreward_degen['BB'], statfunction=scipy.mean, n_samples=10000)\n",
    "n_both_ci = bootstrap.ci(data=noreward_degen['Both'], statfunction=scipy.mean, n_samples=10000)\n",
    "noreward_vals = [noreward_degen['Fluct'].mean(), \n",
    "              noreward_degen['BB'].mean(), \n",
    "              noreward_degen['Both'].mean(),\n",
    "              n_f_ci[1]-n_f_ci[0], \n",
    "              n_bb_ci[1]-n_bb_ci[0], \n",
    "              n_both_ci[1]-n_both_ci[0]]\n",
    "noreward_vals"
   ]
  },
  {
   "cell_type": "code",
   "execution_count": 18,
   "metadata": {
    "collapsed": false
   },
   "outputs": [
    {
     "data": {
      "text/plain": [
       "[7.6170212765957448,\n",
       " 0.78723404255319152,\n",
       " 0.1702127659574468,\n",
       " 3.085106382978724,\n",
       " 0.7021276595744681,\n",
       " 0.21276595744680854]"
      ]
     },
     "execution_count": 18,
     "metadata": {},
     "output_type": "execute_result"
    }
   ],
   "source": [
    "p_f_ci = bootstrap.ci(data=punish_degen['Fluct'], statfunction=scipy.mean, n_samples=10000)\n",
    "p_bb_ci = bootstrap.ci(data=punish_degen['BB'], statfunction=scipy.mean, n_samples=10000)\n",
    "p_both_ci = bootstrap.ci(data=punish_degen['Both'], statfunction=scipy.mean, n_samples=10000)\n",
    "punish_vals = [punish_degen['Fluct'].mean(), \n",
    "              punish_degen['BB'].mean(), \n",
    "              punish_degen['Both'].mean(),\n",
    "              p_f_ci[1]-p_f_ci[0], \n",
    "              p_bb_ci[1]-p_bb_ci[0], \n",
    "              p_both_ci[1]-p_both_ci[0]]\n",
    "punish_vals"
   ]
  },
  {
   "cell_type": "code",
   "execution_count": 19,
   "metadata": {
    "collapsed": false
   },
   "outputs": [
    {
     "data": {
      "image/png": "[encoded data removed]",
      "text/plain": [
       "<matplotlib.figure.Figure at 0x7ff703394410>"
      ]
     },
     "metadata": {},
     "output_type": "display_data"
    }
   ],
   "source": [
    "sectioned = pd.DataFrame([ctrl_vals, noreward_vals, punish_vals], \n",
    "                        columns = ['Fluctuating Task Only', 'Backbone Task Only', 'Overlapping Sites', 'fluct_std', 'bb_std', 'both_std'],\n",
    "                        index = ['Control', 'Benign', 'Hostile'])\n",
    "ax = sectioned[['Fluctuating Task Only', 'Backbone Task Only', 'Overlapping Sites']].plot(kind='bar', \n",
    "                                                       yerr=sectioned[['fluct_std','bb_std', 'both_std']].values.T,\n",
    "                                                       alpha = 0.5,\n",
    "                                                       ylim=[0,12],\n",
    "                                                        rot=0,\n",
    "                                                        title=\"Vestigial Sites Count\",\n",
    "                                                       error_kw=dict(ecolor='k'))\n",
    "ax.set_xlabel(\"Treatments\")\n",
    "ax.set_ylabel(\"Sites\")\n",
    "fig = ax.get_figure()\n",
    "fig.savefig(\"vestigial_sites.png\")"
   ]
  },
  {
   "cell_type": "markdown",
   "metadata": {},
   "source": [
    "## Stats for the means\n",
    "    "
   ]
  },
  {
   "cell_type": "code",
   "execution_count": 79,
   "metadata": {
    "collapsed": false
   },
   "outputs": [
    {
     "name": "stdout",
     "output_type": "stream",
     "text": [
      "MWW RankSum P = 1.60204560453e-08\n",
      "MWW RankSum Z = -5.65026083327\n"
     ]
    }
   ],
   "source": [
    "z_stat, p_val = stats.ranksums(noreward_degen['Fluct'], punish_degen['Fluct'])\n",
    "print \"MWW RankSum P =\", p_val\n",
    "print \"MWW RankSum Z =\", z_stat"
   ]
  },
  {
   "cell_type": "code",
   "execution_count": 76,
   "metadata": {
    "collapsed": false
   },
   "outputs": [
    {
     "name": "stdout",
     "output_type": "stream",
     "text": [
      "MWW RankSum P = 0.300417396919\n",
      "MWW RankSum Z = -1.03553871272\n"
     ]
    }
   ],
   "source": [
    "z_stat, p_val = stats.ranksums(noreward_degen['BB'], punish_degen['BB'])\n",
    "print \"MWW RankSum P =\", p_val\n",
    "print \"MWW RankSum Z =\", z_stat"
   ]
  },
  {
   "cell_type": "code",
   "execution_count": 75,
   "metadata": {
    "collapsed": false
   },
   "outputs": [
    {
     "name": "stdout",
     "output_type": "stream",
     "text": [
      "MWW RankSum P = 0.516166241134\n",
      "MWW RankSum Z = 0.64926633575\n"
     ]
    }
   ],
   "source": [
    "z_stat, p_val = stats.ranksums(noreward_degen['Both'], punish_degen['Both'])\n",
    "print \"MWW RankSum P =\", p_val\n",
    "print \"MWW RankSum Z =\", z_stat"
   ]
  },
  {
   "cell_type": "code",
   "execution_count": 72,
   "metadata": {
    "collapsed": false
   },
   "outputs": [
    {
     "name": "stdout",
     "output_type": "stream",
     "text": [
      "One-way ANOVA P = 6.0269978102e-18\n",
      "One-way ANOVA F = 54.3514967208\n",
      "One-way ANOVA DFs = 2 , 132\n"
     ]
    }
   ],
   "source": [
    "f_val, p_val = stats.f_oneway(ctrl_degen['Fluct'], noreward_degen['Fluct'], punish_degen['Fluct'])\n",
    "\n",
    "DFg = (3 - 1)\n",
    "DFw = (len(ctrl_degen['Fluct']) - 1) + (len(noreward_degen['Fluct']) - 1) + (len(punish_degen['Fluct']) - 1)\n",
    "  \n",
    "print \"One-way ANOVA P =\", p_val\n",
    "print \"One-way ANOVA F =\", f_val\n",
    "print \"One-way ANOVA DFs =\" , DFg , \",\" , DFw"
   ]
  },
  {
   "cell_type": "code",
   "execution_count": 73,
   "metadata": {
    "collapsed": false
   },
   "outputs": [
    {
     "name": "stdout",
     "output_type": "stream",
     "text": [
      "One-way ANOVA P = 0.0474397518903\n",
      "One-way ANOVA F = 3.11978584489\n",
      "One-way ANOVA DFs = 2 , 132\n"
     ]
    }
   ],
   "source": [
    "f_val, p_val = stats.f_oneway(ctrl_degen['BB'], noreward_degen['BB'], punish_degen['BB'])  \n",
    "  \n",
    "DFg = (3 - 1)\n",
    "DFw = (len(ctrl_degen['BB']) - 1) + (len(noreward_degen['BB']) - 1) + (len(punish_degen['BB']) - 1)\n",
    "  \n",
    "print \"One-way ANOVA P =\", p_val\n",
    "print \"One-way ANOVA F =\", f_val\n",
    "print \"One-way ANOVA DFs =\" , DFg , \",\" , DFw"
   ]
  },
  {
   "cell_type": "code",
   "execution_count": 74,
   "metadata": {
    "collapsed": false
   },
   "outputs": [
    {
     "name": "stdout",
     "output_type": "stream",
     "text": [
      "One-way ANOVA P = 0.105689917309\n",
      "One-way ANOVA F = 2.28594216102\n",
      "One-way ANOVA DFs = 2 , 132\n"
     ]
    }
   ],
   "source": [
    "f_val, p_val = stats.f_oneway(ctrl_degen['Both'], noreward_degen['Both'], punish_degen['Both'])  \n",
    "  \n",
    "DFg = (3 - 1)\n",
    "DFw = (len(ctrl_degen['Both']) - 1) + (len(noreward_degen['Both']) - 1) + (len(punish_degen['Both']) - 1)\n",
    "  \n",
    "print \"One-way ANOVA P =\", p_val\n",
    "print \"One-way ANOVA F =\", f_val\n",
    "print \"One-way ANOVA DFs =\" , DFg , \",\" , DFw"
   ]
  },
  {
   "cell_type": "markdown",
   "metadata": {},
   "source": [
    "## Pulling in the functional site data"
   ]
  },
  {
   "cell_type": "markdown",
   "metadata": {},
   "source": [
    "rosiec@13-42-76:/Volumes/rosiec/__research/devolab_research/evolution_of_modularity/raw_data/082/INTERTWINED/last_common_ancestor_mutation_landscapes$ python ../../../../../scripts/graph_generation/bar_chart_from_csv.py --error --groups 3 --xticks \"Static (control),Benign,Hostile\" --columns \"1,2,3\" --legend \"Fluctuating Task Only,Backbone Task Only,Both Tasks\" --pair --title \"Functional Site Count by Task\n",
    "\n",
    "and Treatment Environment\" --ylabel \"Functional Sites\" --xlabel \"Treatment Environment\" --separator \",\" active_sites__intertwined___nototal.png c*_active_site_count.csv n*_active_site_count.csv p*_active_site_count.csv"
   ]
  },
  {
   "cell_type": "code",
   "execution_count": 26,
   "metadata": {
    "collapsed": false
   },
   "outputs": [
    {
     "name": "stdout",
     "output_type": "stream",
     "text": [
      "\u001b[0m\u001b[01;32mcombined_degenerate_site_and_mutation_landscape_metrics__2step.csv\u001b[0m*\r\n",
      "\u001b[01;32mcombined_degenerate_site_and_mutation_landscape_metrics.csv\u001b[0m*\r\n",
      "\u001b[01;32mcontrol_intertwined_active_site_count.csv\u001b[0m*\r\n",
      "\u001b[01;32mcontrol_intertwined__combined_degenerate_site_and_mutation_landscape_metrics.csv\u001b[0m*\r\n",
      "\u001b[01;32mcontrol_intertwined__combined_degenerate_site_and_mutation_landscape_metrics__plus_2step.csv\u001b[0m\u001b[K*\r\n",
      "control_intertwined_degenerate_site_count.csv\r\n",
      "\u001b[01;32mnoreward_intertwined_active_site_count.csv\u001b[0m*\r\n",
      "\u001b[01;32mnoreward_intertwined__combined_degenerate_site_and_mutation_landscape_metrics.csv\u001b[0m\u001b[K*\r\n",
      "\u001b[01;32mnoreward_intertwined__combined_degenerate_site_and_mutation_landscape_metrics__plus_2step.csv\u001b[0m\u001b[K*\r\n",
      "noreward_intertwined_degenerate_site_count.csv\r\n",
      "\u001b[01;32mpunish_intertwined_active_site_count.csv\u001b[0m*\r\n",
      "\u001b[01;32mpunish_intertwined__combined_degenerate_site_and_mutation_landscape_metrics.csv\u001b[0m*\r\n",
      "\u001b[01;32mpunish_intertwined__combined_degenerate_site_and_mutation_landscape_metrics__plus_2step.csv\u001b[0m\u001b[K*\r\n",
      "punish_intertwined_degenerate_site_count.csv\r\n"
     ]
    }
   ],
   "source": [
    "%ls func_and_vestigial_sites/"
   ]
  },
  {
   "cell_type": "code",
   "execution_count": 27,
   "metadata": {
    "collapsed": false,
    "scrolled": true
   },
   "outputs": [
    {
     "name": "stdout",
     "output_type": "stream",
     "text": [
      "2, 2, 15,19\r\n",
      "2, 2, 17,21\r\n",
      "2, 2, 17,21\r\n",
      "2, 2, 16,20\r\n",
      "3, 1, 17,21\r\n",
      "3, 2, 15,20\r\n",
      "2, 2, 17,21\r\n",
      "2, 0, 16,18\r\n",
      "2, 2, 17,21\r\n",
      "2, 2, 16,20\r\n"
     ]
    }
   ],
   "source": [
    "%cat func_and_vestigial_sites/control_intertwined_active_site_count.csv | head"
   ]
  },
  {
   "cell_type": "code",
   "execution_count": null,
   "metadata": {
    "collapsed": true
   },
   "outputs": [],
   "source": []
  },
  {
   "cell_type": "code",
   "execution_count": 28,
   "metadata": {
    "collapsed": false
   },
   "outputs": [
    {
     "data": {
      "text/html": [
       "<div>\n",
       "<table border=\"1\" class=\"dataframe\">\n",
       "  <thead>\n",
       "    <tr style=\"text-align: right;\">\n",
       "      <th></th>\n",
       "      <th>Fluct</th>\n",
       "      <th>BB</th>\n",
       "      <th>Both</th>\n",
       "      <th>Total</th>\n",
       "    </tr>\n",
       "  </thead>\n",
       "  <tbody>\n",
       "    <tr>\n",
       "      <th>41</th>\n",
       "      <td>6</td>\n",
       "      <td>1</td>\n",
       "      <td>14</td>\n",
       "      <td>21</td>\n",
       "    </tr>\n",
       "    <tr>\n",
       "      <th>42</th>\n",
       "      <td>3</td>\n",
       "      <td>2</td>\n",
       "      <td>15</td>\n",
       "      <td>20</td>\n",
       "    </tr>\n",
       "    <tr>\n",
       "      <th>43</th>\n",
       "      <td>2</td>\n",
       "      <td>0</td>\n",
       "      <td>18</td>\n",
       "      <td>20</td>\n",
       "    </tr>\n",
       "    <tr>\n",
       "      <th>44</th>\n",
       "      <td>2</td>\n",
       "      <td>2</td>\n",
       "      <td>17</td>\n",
       "      <td>21</td>\n",
       "    </tr>\n",
       "    <tr>\n",
       "      <th>45</th>\n",
       "      <td>3</td>\n",
       "      <td>2</td>\n",
       "      <td>16</td>\n",
       "      <td>21</td>\n",
       "    </tr>\n",
       "  </tbody>\n",
       "</table>\n",
       "</div>"
      ],
      "text/plain": [
       "    Fluct  BB  Both  Total\n",
       "41      6   1    14     21\n",
       "42      3   2    15     20\n",
       "43      2   0    18     20\n",
       "44      2   2    17     21\n",
       "45      3   2    16     21"
      ]
     },
     "execution_count": 28,
     "metadata": {},
     "output_type": "execute_result"
    }
   ],
   "source": [
    "ctrl_active=pd.read_csv(\"func_and_vestigial_sites/control_intertwined_active_site_count.csv\", names=header_row)\n",
    "ctrl_active.head()\n",
    "ctrl_active.tail()"
   ]
  },
  {
   "cell_type": "code",
   "execution_count": 29,
   "metadata": {
    "collapsed": false
   },
   "outputs": [
    {
     "data": {
      "text/html": [
       "<div>\n",
       "<table border=\"1\" class=\"dataframe\">\n",
       "  <thead>\n",
       "    <tr style=\"text-align: right;\">\n",
       "      <th></th>\n",
       "      <th>Fluct</th>\n",
       "      <th>BB</th>\n",
       "      <th>Both</th>\n",
       "      <th>Total</th>\n",
       "    </tr>\n",
       "  </thead>\n",
       "  <tbody>\n",
       "    <tr>\n",
       "      <th>37</th>\n",
       "      <td>6</td>\n",
       "      <td>2</td>\n",
       "      <td>15</td>\n",
       "      <td>23</td>\n",
       "    </tr>\n",
       "    <tr>\n",
       "      <th>38</th>\n",
       "      <td>8</td>\n",
       "      <td>1</td>\n",
       "      <td>13</td>\n",
       "      <td>22</td>\n",
       "    </tr>\n",
       "    <tr>\n",
       "      <th>39</th>\n",
       "      <td>2</td>\n",
       "      <td>2</td>\n",
       "      <td>17</td>\n",
       "      <td>21</td>\n",
       "    </tr>\n",
       "    <tr>\n",
       "      <th>40</th>\n",
       "      <td>4</td>\n",
       "      <td>1</td>\n",
       "      <td>16</td>\n",
       "      <td>21</td>\n",
       "    </tr>\n",
       "    <tr>\n",
       "      <th>41</th>\n",
       "      <td>4</td>\n",
       "      <td>1</td>\n",
       "      <td>15</td>\n",
       "      <td>20</td>\n",
       "    </tr>\n",
       "  </tbody>\n",
       "</table>\n",
       "</div>"
      ],
      "text/plain": [
       "    Fluct  BB  Both  Total\n",
       "37      6   2    15     23\n",
       "38      8   1    13     22\n",
       "39      2   2    17     21\n",
       "40      4   1    16     21\n",
       "41      4   1    15     20"
      ]
     },
     "execution_count": 29,
     "metadata": {},
     "output_type": "execute_result"
    }
   ],
   "source": [
    "noreward_active=pd.read_csv(\"func_and_vestigial_sites/noreward_intertwined_active_site_count.csv\", names=header_row)\n",
    "noreward_active.head()\n",
    "noreward_active.tail()"
   ]
  },
  {
   "cell_type": "code",
   "execution_count": 30,
   "metadata": {
    "collapsed": false
   },
   "outputs": [
    {
     "data": {
      "text/html": [
       "<div>\n",
       "<table border=\"1\" class=\"dataframe\">\n",
       "  <thead>\n",
       "    <tr style=\"text-align: right;\">\n",
       "      <th></th>\n",
       "      <th>Fluct</th>\n",
       "      <th>BB</th>\n",
       "      <th>Both</th>\n",
       "      <th>Total</th>\n",
       "    </tr>\n",
       "  </thead>\n",
       "  <tbody>\n",
       "    <tr>\n",
       "      <th>42</th>\n",
       "      <td>10</td>\n",
       "      <td>3</td>\n",
       "      <td>16</td>\n",
       "      <td>29</td>\n",
       "    </tr>\n",
       "    <tr>\n",
       "      <th>43</th>\n",
       "      <td>14</td>\n",
       "      <td>1</td>\n",
       "      <td>18</td>\n",
       "      <td>33</td>\n",
       "    </tr>\n",
       "    <tr>\n",
       "      <th>44</th>\n",
       "      <td>4</td>\n",
       "      <td>2</td>\n",
       "      <td>17</td>\n",
       "      <td>23</td>\n",
       "    </tr>\n",
       "    <tr>\n",
       "      <th>45</th>\n",
       "      <td>3</td>\n",
       "      <td>2</td>\n",
       "      <td>16</td>\n",
       "      <td>21</td>\n",
       "    </tr>\n",
       "    <tr>\n",
       "      <th>46</th>\n",
       "      <td>9</td>\n",
       "      <td>2</td>\n",
       "      <td>17</td>\n",
       "      <td>28</td>\n",
       "    </tr>\n",
       "  </tbody>\n",
       "</table>\n",
       "</div>"
      ],
      "text/plain": [
       "    Fluct  BB  Both  Total\n",
       "42     10   3    16     29\n",
       "43     14   1    18     33\n",
       "44      4   2    17     23\n",
       "45      3   2    16     21\n",
       "46      9   2    17     28"
      ]
     },
     "execution_count": 30,
     "metadata": {},
     "output_type": "execute_result"
    }
   ],
   "source": [
    "punish_active=pd.read_csv(\"func_and_vestigial_sites/punish_intertwined_active_site_count.csv\", names=header_row)\n",
    "punish_active.head()\n",
    "punish_active.tail()"
   ]
  },
  {
   "cell_type": "code",
   "execution_count": null,
   "metadata": {
    "collapsed": true
   },
   "outputs": [],
   "source": []
  },
  {
   "cell_type": "code",
   "execution_count": 31,
   "metadata": {
    "collapsed": false
   },
   "outputs": [
    {
     "data": {
      "text/plain": [
       "[2.5,\n",
       " 1.673913043478261,\n",
       " 16.173913043478262,\n",
       " 0.71739130434782616,\n",
       " 0.47826086956521752,\n",
       " 0.67391304347826164]"
      ]
     },
     "execution_count": 31,
     "metadata": {},
     "output_type": "execute_result"
    }
   ],
   "source": [
    "c_f_ci = bootstrap.ci(data=ctrl_active['Fluct'], statfunction=scipy.mean, n_samples=10000)\n",
    "c_bb_ci = bootstrap.ci(data=ctrl_active['BB'], statfunction=scipy.mean, n_samples=10000)\n",
    "c_both_ci = bootstrap.ci(data=ctrl_active['Both'], statfunction=scipy.mean, n_samples=10000)\n",
    "ctrl_vals = [ctrl_active['Fluct'].mean(), \n",
    "              ctrl_active['BB'].mean(), \n",
    "              ctrl_active['Both'].mean(),\n",
    "              c_f_ci[1]-c_f_ci[0], \n",
    "              c_bb_ci[1]-c_bb_ci[0], \n",
    "              c_both_ci[1]-c_both_ci[0]]\n",
    "ctrl_vals"
   ]
  },
  {
   "cell_type": "code",
   "execution_count": 32,
   "metadata": {
    "collapsed": false
   },
   "outputs": [
    {
     "data": {
      "text/plain": [
       "[5.6190476190476186,\n",
       " 1.5238095238095237,\n",
       " 15.857142857142858,\n",
       " 1.7380952380952381,\n",
       " 0.61904761904761907,\n",
       " 0.7857142857142847]"
      ]
     },
     "execution_count": 32,
     "metadata": {},
     "output_type": "execute_result"
    }
   ],
   "source": [
    "n_f_ci = bootstrap.ci(data=noreward_active['Fluct'], statfunction=scipy.mean, n_samples=10000)\n",
    "n_bb_ci = bootstrap.ci(data=noreward_active['BB'], statfunction=scipy.mean, n_samples=10000)\n",
    "n_both_ci = bootstrap.ci(data=noreward_active['Both'], statfunction=scipy.mean, n_samples=10000)\n",
    "noreward_vals = [noreward_active['Fluct'].mean(), \n",
    "              noreward_active['BB'].mean(), \n",
    "              noreward_active['Both'].mean(),\n",
    "              n_f_ci[1]-n_f_ci[0], \n",
    "              n_bb_ci[1]-n_bb_ci[0], \n",
    "              n_both_ci[1]-n_both_ci[0]]\n",
    "noreward_vals"
   ]
  },
  {
   "cell_type": "code",
   "execution_count": 33,
   "metadata": {
    "collapsed": false
   },
   "outputs": [
    {
     "data": {
      "text/plain": [
       "[8.5957446808510642,\n",
       " 2.9361702127659575,\n",
       " 14.319148936170214,\n",
       " 2.4468085106382986,\n",
       " 2.2127659574468082,\n",
       " 2.6170212765957448]"
      ]
     },
     "execution_count": 33,
     "metadata": {},
     "output_type": "execute_result"
    }
   ],
   "source": [
    "p_f_ci = bootstrap.ci(data=punish_active['Fluct'], statfunction=scipy.mean, n_samples=10000)\n",
    "p_bb_ci = bootstrap.ci(data=punish_active['BB'], statfunction=scipy.mean, n_samples=10000)\n",
    "p_both_ci = bootstrap.ci(data=punish_active['Both'], statfunction=scipy.mean, n_samples=10000)\n",
    "punish_vals = [punish_active['Fluct'].mean(), \n",
    "              punish_active['BB'].mean(), \n",
    "              punish_active['Both'].mean(),\n",
    "              p_f_ci[1]-p_f_ci[0], \n",
    "              p_bb_ci[1]-p_bb_ci[0], \n",
    "              p_both_ci[1]-p_both_ci[0]]\n",
    "punish_vals"
   ]
  },
  {
   "cell_type": "code",
   "execution_count": 34,
   "metadata": {
    "collapsed": false
   },
   "outputs": [
    {
     "data": {
      "image/png": "[encoded data removed]",
      "text/plain": [
       "<matplotlib.figure.Figure at 0x7ff703394ad0>"
      ]
     },
     "metadata": {},
     "output_type": "display_data"
    }
   ],
   "source": [
    "sectioned = pd.DataFrame([ctrl_vals, noreward_vals, punish_vals], \n",
    "                        columns = ['Fluctuating Task Only', 'Backbone Task Only', 'Overlapping Sites', 'fluct_std', 'bb_std', 'both_std'],\n",
    "                        index = ['Control', 'Benign', 'Hostile'])\n",
    "ax = sectioned[['Fluctuating Task Only', 'Backbone Task Only', 'Overlapping Sites']].plot(kind='bar', \n",
    "                                                       yerr=sectioned[['fluct_std','bb_std', 'both_std']].values.T,\n",
    "                                                       alpha = 0.5,\n",
    "                                                       #ylim=[0,18],\n",
    "                                                        rot=0,\n",
    "                                                        title=\"Functional Sites Count\",\n",
    "                                                       error_kw=dict(ecolor='k'))\n",
    "ax.set_xlabel(\"Treatments\")\n",
    "ax.set_ylabel(\"Sites\")\n",
    "fig = ax.get_figure()\n",
    "fig.savefig(\"active_sites.png\")"
   ]
  },
  {
   "cell_type": "markdown",
   "metadata": {
    "collapsed": true
   },
   "source": [
    "## Lost and Regained Tasks\n",
    "\n",
    "rosiec@Loki:/Volumes/rosiec/__research/devolab_research/evolution_of_modularity/raw_data/082/INTERTWINED/last_common_ancestor_mutation_landscapes$ python ../../../../../scripts/graph_generation/bar_chart_from_csv.py \n",
    "--groups 3 \n",
    "--xticks \"Control,Benign,Hostile\" \n",
    "--columns \"3\" \n",
    "--pair \n",
    "--title \"Fraction of Second-step Mutants that Regained Fluctuating Task\" \n",
    "--ylabel \"Fraction\" \n",
    "--xlabel \"Treatment\" \n",
    "--separator \",\" \n",
    "--error \n",
    "--show twostep_does_fluct.png \n",
    "c*_*/mutation_landscape_metrics.csv \n",
    "n*_*/mutation_landscape_metrics.csv \n",
    "p*_*/mutation_landscape_metrics.csv &\n",
    "\n",
    "rosiec@Loki:/Volumes/rosiec/__research/devolab_research/evolution_of_modularity/raw_data/085$ python ../../../scripts/graph_generation/bar_chart_from_csv.py \n",
    "--groups 3 \n",
    "--xticks \"Control,Control,Hostile\" \n",
    "--columns \"3\" \n",
    "--pair --title \"Fraction of Second-step Mutants that Regained Fluctuating Task\" \n",
    "--ylabel \"Fraction\" --xlabel \"Treatment\" --separator \",\" --show --error \n",
    "two_step__regained_fluct.png \n",
    "c*_i/mutation_landscape_metrics.csv \n",
    "n*_i/mutation_landscape_metrics.csv \n",
    "p*_i/mutation_landscape_metrics.csv &\n"
   ]
  },
  {
   "cell_type": "code",
   "execution_count": 35,
   "metadata": {
    "collapsed": false
   },
   "outputs": [
    {
     "name": "stdout",
     "output_type": "stream",
     "text": [
      "1_step_lost_and_dont_do_EQU.png\r\n",
      "1_step_lost_EQU.png\r\n",
      "1step_no_longer_does_EQU.png\r\n",
      "1step_still_does_EQU.png\r\n",
      "2_step_regained_and_do_EQU.png\r\n",
      "2_step_regained_EQU.png\r\n",
      "active_sites.png\r\n",
      "'Changing Environments - Functional and Vestigial Sites.ipynb'\r\n",
      "c_i_1step_mutation_landscape_metrics.csv\r\n",
      "c_i_2nd_step_mutation_landscape_metrics.csv\r\n",
      "\u001b[0m\u001b[01;34mfunc_and_vestigial_sites\u001b[0m/\r\n",
      "n_i_1step_mutation_landscape_metrics.csv\r\n",
      "n_i_2nd_step_mutation_landscape_metrics.csv\r\n",
      "p_i_1step_mutation_landscape_metrics.csv\r\n",
      "p_i_2nd_step_mutation_landscape_metrics.csv\r\n",
      "recomb_viab.sh\r\n",
      "'Stats for Sexual Selection Significance.ipynb'\r\n",
      "vestigial_sites.png\r\n"
     ]
    }
   ],
   "source": [
    "%ls "
   ]
  },
  {
   "cell_type": "code",
   "execution_count": 36,
   "metadata": {
    "collapsed": false
   },
   "outputs": [
    {
     "name": "stdout",
     "output_type": "stream",
     "text": [
      "0.870217324763,0.732170186716,0.731558004285,0.716559534741,0.138047138047,0.138659320478,0.123048668503,0.0,0.0,0.0,0.138047138047,0.138659320478,0.123048668503,0.0,0.0\r\n",
      "0.791857973676,0.658402203857,0.657483930211,0.643403734313,0.133455769819,0.134374043465,0.119375573921,0.0,0.0,0.0,0.133455769819,0.134374043465,0.119375573921,0.0,0.0\r\n",
      "0.868686868687,0.72237526783,0.722069176615,0.707070707071,0.146311600857,0.146617692072,0.131313131313,0.0,0.0,0.0,0.146311600857,0.146617692072,0.131313131313,0.0,0.0\r\n",
      "0.772268135904,0.643403734313,0.642791551882,0.628711355984,0.128864401592,0.129476584022,0.114784205693,0.0,0.0,0.0,0.128864401592,0.129476584022,0.114784205693,0.0,0.0\r\n",
      "0.878175696358,0.734006734007,0.717783899602,0.709213345577,0.144168962351,0.160391796755,0.135598408326,0.0,0.0,0.0,0.144168962351,0.160391796755,0.135598408326,0.0,0.0\r\n",
      "0.876645240282,0.746862565044,0.740434649526,0.725742271197,0.129782675237,0.136210590756,0.115090296908,0.0,0.0,0.0,0.129782675237,0.136210590756,0.115090296908,0.0,0.0\r\n",
      "0.843587389042,0.702785430058,0.702479338843,0.687480869299,0.140801958984,0.141108050199,0.12580348944,0.0,0.0,0.0,0.140801958984,0.141108050199,0.12580348944,0.0,0.0\r\n",
      "0.865625956535,0.741965105601,0.726660544842,0.72237526783,0.123660850934,0.138965411693,0.119375573921,0.0,0.0,0.0,0.123660850934,0.138965411693,0.119375573921,0.0,0.0\r\n",
      "0.868074686257,0.727272727273,0.727272727273,0.711968166514,0.140801958984,0.140801958984,0.125497398225,0.0,0.0,0.0,0.140801958984,0.140801958984,0.125497398225,0.0,0.0\r\n",
      "0.799510254056,0.677073767983,0.676155494337,0.662687480869,0.122436486073,0.123354759718,0.108968472605,0.0,0.0,0.0,0.122436486073,0.123354759718,0.108968472605,0.0,0.0\r\n"
     ]
    }
   ],
   "source": [
    "% cat c_i_1step_mutation_landscape_metrics.csv| head"
   ]
  },
  {
   "cell_type": "code",
   "execution_count": 37,
   "metadata": {
    "collapsed": true
   },
   "outputs": [],
   "source": [
    "landscape_header= [\"FracViable\", \n",
    "                   \"FracDoesXOR\", \n",
    "                   \"FracDoesEQU\", \n",
    "                   \"FracDoesBoth\", \n",
    "                   \"FracChangedXOR\", \n",
    "                   \"FracChangedEQU\", \n",
    "                   \"FracChangedBoth\",\n",
    "                    \"frac_gained_XOR\",\n",
    "                    \"frac_gained_EQU\",\n",
    "                    \"frac_gained_both\",\n",
    "                    \"frac_lost_XOR\",\n",
    "                    \"frac_lost_EQU\",\n",
    "                    \"frac_lost_both\",\n",
    "                    \"frac_gained_XOR_lost_EQU\",\n",
    "                    \"frac_lost_XOR_gained_EQU\"]\n"
   ]
  },
  {
   "cell_type": "code",
   "execution_count": 38,
   "metadata": {
    "collapsed": false
   },
   "outputs": [
    {
     "data": {
      "text/plain": [
       "count    46.000000\n",
       "mean      0.139118\n",
       "std       0.009270\n",
       "min       0.111111\n",
       "25%       0.134680\n",
       "50%       0.138659\n",
       "75%       0.144858\n",
       "max       0.160698\n",
       "Name: frac_lost_EQU, dtype: float64"
      ]
     },
     "execution_count": 38,
     "metadata": {},
     "output_type": "execute_result"
    }
   ],
   "source": [
    "c_i_1step_landscape=pd.read_csv(\"c_i_1step_mutation_landscape_metrics.csv\", names=landscape_header)\n",
    "c_i_1step_landscape.head()\n",
    "c_i_1step_landscape.tail()\n",
    "c_i_1step_landscape['frac_lost_EQU'].describe()"
   ]
  },
  {
   "cell_type": "code",
   "execution_count": 39,
   "metadata": {
    "collapsed": false
   },
   "outputs": [
    {
     "data": {
      "text/plain": [
       "count    42.000000\n",
       "mean      0.181964\n",
       "std       0.040577\n",
       "min       0.121824\n",
       "25%       0.157713\n",
       "50%       0.170340\n",
       "75%       0.203551\n",
       "max       0.318947\n",
       "Name: frac_lost_EQU, dtype: float64"
      ]
     },
     "execution_count": 39,
     "metadata": {},
     "output_type": "execute_result"
    }
   ],
   "source": [
    "n_i_1step_landscape=pd.read_csv(\"n_i_1step_mutation_landscape_metrics.csv\", names=landscape_header)\n",
    "n_i_1step_landscape['frac_lost_EQU'].describe()\n",
    "#n_i_1step_landscape.tail()"
   ]
  },
  {
   "cell_type": "code",
   "execution_count": 40,
   "metadata": {
    "collapsed": false
   },
   "outputs": [
    {
     "data": {
      "text/plain": [
       "count    47.000000\n",
       "mean      0.208663\n",
       "std       0.071989\n",
       "min       0.000000\n",
       "25%       0.175696\n",
       "50%       0.224365\n",
       "75%       0.249158\n",
       "max       0.323232\n",
       "Name: frac_lost_EQU, dtype: float64"
      ]
     },
     "execution_count": 40,
     "metadata": {},
     "output_type": "execute_result"
    }
   ],
   "source": [
    "p_i_1step_landscape=pd.read_csv(\"p_i_1step_mutation_landscape_metrics.csv\", names=landscape_header)\n",
    "p_i_1step_landscape['frac_lost_EQU'].describe()\n",
    "#p_i_1step_landscape.tail()"
   ]
  },
  {
   "cell_type": "code",
   "execution_count": 41,
   "metadata": {
    "collapsed": false
   },
   "outputs": [
    {
     "data": {
      "text/plain": [
       "count    46.000000\n",
       "mean      0.003594\n",
       "std       0.002071\n",
       "min       0.001548\n",
       "25%       0.002319\n",
       "50%       0.002666\n",
       "75%       0.004469\n",
       "max       0.010178\n",
       "Name: frac_gained_EQU, dtype: float64"
      ]
     },
     "execution_count": 41,
     "metadata": {},
     "output_type": "execute_result"
    }
   ],
   "source": [
    "c_i_2step_landscape=pd.read_csv(\"c_i_2nd_step_mutation_landscape_metrics.csv\", names=landscape_header)\n",
    "c_i_2step_landscape['frac_gained_EQU'].describe()\n",
    "#c_i_2step_landscape.tail()"
   ]
  },
  {
   "cell_type": "code",
   "execution_count": 42,
   "metadata": {
    "collapsed": false
   },
   "outputs": [
    {
     "data": {
      "text/plain": [
       "count    42.000000\n",
       "mean      0.012642\n",
       "std       0.007637\n",
       "min       0.001466\n",
       "25%       0.007878\n",
       "50%       0.010043\n",
       "75%       0.017603\n",
       "max       0.028410\n",
       "Name: frac_gained_EQU, dtype: float64"
      ]
     },
     "execution_count": 42,
     "metadata": {},
     "output_type": "execute_result"
    }
   ],
   "source": [
    "n_i_2step_landscape=pd.read_csv(\"n_i_2nd_step_mutation_landscape_metrics.csv\", names=landscape_header)\n",
    "n_i_2step_landscape['frac_gained_EQU'].describe()\n",
    "#c_i_2step_landscape.tail()"
   ]
  },
  {
   "cell_type": "code",
   "execution_count": 43,
   "metadata": {
    "collapsed": false
   },
   "outputs": [
    {
     "data": {
      "text/plain": [
       "count    44.000000\n",
       "mean      0.015303\n",
       "std       0.010264\n",
       "min       0.003424\n",
       "25%       0.007717\n",
       "50%       0.012775\n",
       "75%       0.020286\n",
       "max       0.049676\n",
       "Name: frac_gained_EQU, dtype: float64"
      ]
     },
     "execution_count": 43,
     "metadata": {},
     "output_type": "execute_result"
    }
   ],
   "source": [
    "p_i_2step_landscape=pd.read_csv(\"p_i_2nd_step_mutation_landscape_metrics.csv\", names=landscape_header)\n",
    "p_i_2step_landscape['frac_gained_EQU'].describe()\n",
    "#c_i_2step_landscape.tail()"
   ]
  },
  {
   "cell_type": "code",
   "execution_count": null,
   "metadata": {
    "collapsed": true
   },
   "outputs": [],
   "source": []
  },
  {
   "cell_type": "code",
   "execution_count": 64,
   "metadata": {
    "collapsed": false,
    "scrolled": true
   },
   "outputs": [
    {
     "data": {
      "image/png": "[encoded data removed]",
      "text/plain": [
       "<matplotlib.figure.Figure at 0x7ff70293fd50>"
      ]
     },
     "metadata": {},
     "output_type": "display_data"
    }
   ],
   "source": [
    "# calculating the boostrap error values\n",
    "c_lost_ci = bootstrap.ci(data=c_i_1step_landscape['frac_lost_EQU'], statfunction=scipy.mean, n_samples=10000)\n",
    "n_lost_ci = bootstrap.ci(data=n_i_1step_landscape['frac_lost_EQU'], statfunction=scipy.mean, n_samples=10000)\n",
    "p_lost_ci = bootstrap.ci(data=p_i_1step_landscape['frac_lost_EQU'], statfunction=scipy.mean, n_samples=10000)\n",
    "\n",
    "\n",
    "#c_bb_ci = bootstrap.ci(data=ctrl_active['BB'], statfunction=scipy.mean, n_samples=10000)\n",
    "#c_both_ci = bootstrap.ci(data=ctrl_active['Both'], statfunction=scipy.mean, n_samples=10000)\n",
    "lost_vals = [c_i_1step_landscape['frac_lost_EQU'].mean(), \n",
    "              n_i_1step_landscape['frac_lost_EQU'].mean(), \n",
    "              p_i_1step_landscape['frac_lost_EQU'].mean(),\n",
    "              c_lost_ci[1]-c_lost_ci[0], \n",
    "              n_lost_ci[1]-n_lost_ci[0], \n",
    "              p_lost_ci[1]-p_lost_ci[0]]\n",
    "\n",
    "sectioned = pd.DataFrame([lost_vals], \n",
    "                        columns = ['Control', 'Benign', 'Hostile', 'c_err', 'n_err', 'p_err'],\n",
    "                        index = [''])\n",
    "ax = sectioned[['Control', 'Benign', 'Hostile']].plot(kind='bar', \n",
    "                                                       yerr=sectioned[['c_err','n_err', 'p_err']].values.T,\n",
    "                                                       alpha = 0.5,\n",
    "                                                       ylim=[0,0.31],\n",
    "                                                        rot=0,\n",
    "                                                        title=\"Ratio of 1-step Mutants that Lost EQU\",\n",
    "                                                       error_kw=dict(ecolor='k'))\n",
    "ax.set_xlabel(\"Treatment\")\n",
    "ax.set_ylabel(\"Ratio of 1-Step Mutants That Lost EQU\")\n",
    "fig = ax.get_figure()\n",
    "fig.savefig(\"1_step_lost_EQU.png\")"
   ]
  },
  {
   "cell_type": "code",
   "execution_count": 45,
   "metadata": {
    "collapsed": false
   },
   "outputs": [
    {
     "name": "stdout",
     "output_type": "stream",
     "text": [
      "24.3211990161\n",
      "1.01807536084e-09\n",
      "reject null of sameness (different)\n"
     ]
    }
   ],
   "source": [
    "f_stat, p_val = stats.f_oneway(c_i_1step_landscape['frac_lost_EQU'], \n",
    "                               n_i_1step_landscape['frac_lost_EQU'], \n",
    "                               p_i_1step_landscape['frac_lost_EQU'])\n",
    "print f_stat\n",
    "print p_val\n",
    "\n",
    "if p_val < (0.05/3): #bonferroni\n",
    "    print \"reject null of sameness (different)\"\n",
    "else:\n",
    "    print \"can't reject null of sameness\""
   ]
  },
  {
   "cell_type": "code",
   "execution_count": 46,
   "metadata": {
    "collapsed": false
   },
   "outputs": [
    {
     "name": "stdout",
     "output_type": "stream",
     "text": [
      "-6.59126938901\n",
      "4.36081787061e-11\n",
      "reject null of sameness (different)\n"
     ]
    }
   ],
   "source": [
    "z_stat, p_val = stats.ranksums(c_i_1step_landscape['frac_lost_EQU'], n_i_1step_landscape['frac_lost_EQU'])  \n",
    "print z_stat\n",
    "print p_val\n",
    "if p_val < (0.05/3): #bonferroni\n",
    "    print \"reject null of sameness (different)\"\n",
    "else:\n",
    "    print \"can't reject null of sameness\""
   ]
  },
  {
   "cell_type": "code",
   "execution_count": 47,
   "metadata": {
    "collapsed": false
   },
   "outputs": [
    {
     "name": "stdout",
     "output_type": "stream",
     "text": [
      "-6.70830955812\n",
      "1.96891909454e-11\n",
      "reject null of sameness (different)\n"
     ]
    }
   ],
   "source": [
    "z_stat, p_val = stats.ranksums(c_i_1step_landscape['frac_lost_EQU'], p_i_1step_landscape['frac_lost_EQU'])  \n",
    "print z_stat\n",
    "print p_val\n",
    "if p_val < (0.05/3): #bonferroni\n",
    "    print \"reject null of sameness (different)\"\n",
    "else:\n",
    "    print \"can't reject null of sameness\""
   ]
  },
  {
   "cell_type": "code",
   "execution_count": 48,
   "metadata": {
    "collapsed": false
   },
   "outputs": [
    {
     "name": "stdout",
     "output_type": "stream",
     "text": [
      "-3.43535858663\n",
      "0.000591770223079\n",
      "reject null of sameness (different)\n"
     ]
    }
   ],
   "source": [
    "z_stat, p_val = stats.ranksums(n_i_1step_landscape['frac_lost_EQU'], p_i_1step_landscape['frac_lost_EQU'])  \n",
    "print z_stat\n",
    "print p_val\n",
    "if p_val < (0.05/3): #bonferroni\n",
    "    print \"reject null of sameness (different)\"\n",
    "else:\n",
    "    print \"can't reject null of sameness\""
   ]
  },
  {
   "cell_type": "code",
   "execution_count": 68,
   "metadata": {
    "collapsed": false,
    "scrolled": true
   },
   "outputs": [
    {
     "data": {
      "image/png": "[encoded data removed]",
      "text/plain": [
       "<IPython.core.display.Image object>"
      ]
     },
     "execution_count": 68,
     "metadata": {},
     "output_type": "execute_result"
    },
    {
     "data": {
      "image/png": "[encoded data removed]",
      "text/plain": [
       "<matplotlib.figure.Figure at 0x7ff703390110>"
      ]
     },
     "metadata": {},
     "output_type": "display_data"
    }
   ],
   "source": [
    "# calculating the boostrap error values\n",
    "c_doesEQU_ci = bootstrap.ci(data=c_i_1step_landscape['FracDoesEQU'], statfunction=scipy.mean, n_samples=10000)\n",
    "n_doesEQU_ci = bootstrap.ci(data=n_i_1step_landscape['FracDoesEQU'], statfunction=scipy.mean, n_samples=10000)\n",
    "p_doesEQU_ci = bootstrap.ci(data=p_i_1step_landscape['FracDoesEQU'], statfunction=scipy.mean, n_samples=10000)\n",
    "\n",
    "\n",
    "#c_bb_ci = bootstrap.ci(data=ctrl_active['BB'], statfunction=scipy.mean, n_samples=10000)\n",
    "#c_both_ci = bootstrap.ci(data=ctrl_active['Both'], statfunction=scipy.mean, n_samples=10000)\n",
    "stilldoes_vals = [c_i_1step_landscape['FracDoesEQU'].mean(), \n",
    "              n_i_1step_landscape['FracDoesEQU'].mean(), \n",
    "              p_i_1step_landscape['FracDoesEQU'].mean(),\n",
    "              c_doesEQU_ci[1]-c_doesEQU_ci[0], \n",
    "              n_doesEQU_ci[1]-n_doesEQU_ci[0], \n",
    "              p_doesEQU_ci[1]-p_doesEQU_ci[0]]\n",
    "\n",
    "sectioned = pd.DataFrame([stilldoes_vals], \n",
    "                        columns = ['Control', 'Benign', 'Hostile', 'c_err', 'n_err', 'p_err'],\n",
    "                        index = [''])\n",
    "ax = sectioned[['Control', 'Benign', 'Hostile']].plot(kind='bar', \n",
    "                                                       yerr=sectioned[['c_err','n_err', 'p_err']].values.T,\n",
    "                                                       alpha = 0.5,\n",
    "                                                       ylim=[0,1],\n",
    "                                                        rot=0,\n",
    "                                                        title=\"Fraction of 1-step Mutants that Still Perform EQU\",\n",
    "                                                       error_kw=dict(ecolor='k'))\n",
    "\n",
    "fig = ax.get_figure()\n",
    "fig.set_size_inches(5.1, 3)\n",
    "ax.set_xlabel(\"Treatment\")\n",
    "ax.set_ylabel(\"Fraction of Mutants\")\n",
    "fig.savefig(\"1step_still_does_EQU.png\", dpi=300)\n",
    "\n",
    "ipyImage('1step_still_does_EQU.png') "
   ]
  },
  {
   "cell_type": "code",
   "execution_count": 148,
   "metadata": {
    "collapsed": false
   },
   "outputs": [
    {
     "data": {
      "image/png": "[encoded data removed]",
      "text/plain": [
       "<matplotlib.figure.Figure at 0x7f1d57b71e10>"
      ]
     },
     "metadata": {},
     "output_type": "display_data"
    }
   ],
   "source": [
    "# calculating the boostrap error values\n",
    "c_inv_doesEQU_ci = bootstrap.ci(data=c_i_1step_landscape['FracDoesEQU'], statfunction=scipy.mean, n_samples=10000)\n",
    "n_inv_doesEQU_ci = bootstrap.ci(data=n_i_1step_landscape['FracDoesEQU'], statfunction=scipy.mean, n_samples=10000)\n",
    "p_inv_doesEQU_ci = bootstrap.ci(data=p_i_1step_landscape['FracDoesEQU'], statfunction=scipy.mean, n_samples=10000)\n",
    "\n",
    "\n",
    "#c_bb_ci = bootstrap.ci(data=ctrl_active['BB'], statfunction=scipy.mean, n_samples=10000)\n",
    "#c_both_ci = bootstrap.ci(data=ctrl_active['Both'], statfunction=scipy.mean, n_samples=10000)\n",
    "inv_stilldoes_vals = [1-c_i_1step_landscape['FracDoesEQU'].mean(), \n",
    "              1-n_i_1step_landscape['FracDoesEQU'].mean(), \n",
    "              1-p_i_1step_landscape['FracDoesEQU'].mean(),\n",
    "              c_inv_doesEQU_ci[1]-c_inv_doesEQU_ci[0], \n",
    "              n_inv_doesEQU_ci[1]-n_inv_doesEQU_ci[0], \n",
    "              p_inv_doesEQU_ci[1]-p_inv_doesEQU_ci[0]]\n",
    "\n",
    "sectioned = pd.DataFrame([inv_stilldoes_vals], \n",
    "                        columns = ['Control', 'Benign', 'Hostile', 'c_err', 'n_err', 'p_err'],\n",
    "                        index = [''])\n",
    "ax = sectioned[['Control', 'Benign', 'Hostile']].plot(kind='bar', \n",
    "                                                       yerr=sectioned[['c_err','n_err', 'p_err']].values.T,\n",
    "                                                       alpha = 0.5,\n",
    "                                                       #ylim=[0,0.31],\n",
    "                                                        rot=0,\n",
    "                                                        title=\"Ratio of 1-step Mutants that Don't Do EQU (could be dead)\",\n",
    "                                                       error_kw=dict(ecolor='k'))\n",
    "ax.set_xlabel(\"Treatment\")\n",
    "ax.set_ylabel(\"Ratio of 1-Step Mutants That No Longer Do EQU\")\n",
    "fig = ax.get_figure()\n",
    "fig.savefig(\"1step_no_longer_does_EQU.png\")"
   ]
  },
  {
   "cell_type": "code",
   "execution_count": 156,
   "metadata": {
    "collapsed": false
   },
   "outputs": [
    {
     "data": {
      "image/png": "[encoded data removed]",
      "text/plain": [
       "<matplotlib.figure.Figure at 0x7f1d57c10ed0>"
      ]
     },
     "metadata": {},
     "output_type": "display_data"
    }
   ],
   "source": [
    "# calculating the boostrap error values\n",
    "c_lost_ci = bootstrap.ci(data=c_i_1step_landscape['frac_lost_EQU'], statfunction=scipy.mean, n_samples=10000)\n",
    "n_lost_ci = bootstrap.ci(data=n_i_1step_landscape['frac_lost_EQU'], statfunction=scipy.mean, n_samples=10000)\n",
    "p_lost_ci = bootstrap.ci(data=p_i_1step_landscape['frac_lost_EQU'], statfunction=scipy.mean, n_samples=10000)\n",
    "\n",
    "\n",
    "#c_bb_ci = bootstrap.ci(data=ctrl_active['BB'], statfunction=scipy.mean, n_samples=10000)\n",
    "#c_both_ci = bootstrap.ci(data=ctrl_active['Both'], statfunction=scipy.mean, n_samples=10000)\n",
    "lost_vals = [c_i_1step_landscape['frac_lost_EQU'].mean(), \n",
    "              n_i_1step_landscape['frac_lost_EQU'].mean(), \n",
    "              p_i_1step_landscape['frac_lost_EQU'].mean(),\n",
    "              c_lost_ci[1]-c_lost_ci[0], \n",
    "              n_lost_ci[1]-n_lost_ci[0], \n",
    "              p_lost_ci[1]-p_lost_ci[0]]\n",
    "\n",
    "sectioned = pd.DataFrame([lost_vals, inv_stilldoes_vals], \n",
    "                        columns = ['Control', 'Benign', 'Hostile', 'c_err', 'n_err', 'p_err'],\n",
    "                        index = ['Lost EQU', 'Doesnt Do EQU (could be dead)'])\n",
    "ax = sectioned[['Control', 'Benign', 'Hostile']].plot(kind='bar', \n",
    "                                                       yerr=sectioned[['c_err','n_err', 'p_err']].values.T,\n",
    "                                                       alpha = 0.5,\n",
    "                                                       #ylim=[0,0.31],\n",
    "                                                        rot=0,\n",
    "                                                        title=\"Ratio of 1-step Mutants that Lost EQU\",\n",
    "                                                       error_kw=dict(ecolor='k'))\n",
    "ax.set_xlabel(\"Treatment\")\n",
    "ax.set_ylabel(\"Ratio of 1-Step Mutants That Lost EQU\")\n",
    "fig = ax.get_figure()\n",
    "fig.savefig(\"1_step_lost_and_dont_do_EQU.png\")"
   ]
  },
  {
   "cell_type": "code",
   "execution_count": 158,
   "metadata": {
    "collapsed": false
   },
   "outputs": [
    {
     "data": {
      "image/png": "[encoded data removed]",
      "text/plain": [
       "<matplotlib.figure.Figure at 0x7f1d57ac2190>"
      ]
     },
     "metadata": {},
     "output_type": "display_data"
    }
   ],
   "source": [
    "c_regained_ci = bootstrap.ci(data=c_i_2step_landscape['frac_gained_EQU'], statfunction=scipy.mean, n_samples=10000)\n",
    "n_regained_ci = bootstrap.ci(data=n_i_2step_landscape['frac_gained_EQU'], statfunction=scipy.mean, n_samples=10000)\n",
    "p_regained_ci = bootstrap.ci(data=p_i_2step_landscape['frac_gained_EQU'], statfunction=scipy.mean, n_samples=10000)\n",
    "\n",
    "regained_vals = [c_i_2step_landscape['frac_gained_EQU'].mean(), \n",
    "              n_i_2step_landscape['frac_gained_EQU'].mean(), \n",
    "              p_i_2step_landscape['frac_gained_EQU'].mean(),\n",
    "              c_regained_ci[1]-c_regained_ci[0], \n",
    "              n_regained_ci[1]-n_regained_ci[0], \n",
    "              p_regained_ci[1]-p_regained_ci[0]]\n",
    "regained_vals\n",
    "\n",
    "sectioned = pd.DataFrame([regained_vals], \n",
    "                        columns = ['Control', 'Benign', 'Hostile', 'c_err', 'n_err', 'p_err'],\n",
    "                        index = [''])\n",
    "ax = sectioned[['Control', 'Benign', 'Hostile']].plot(kind='bar', \n",
    "                                                       yerr=sectioned[['c_err','n_err', 'p_err']].values.T,\n",
    "                                                       alpha = 0.5,\n",
    "                                                       ylim=[0,0.025],\n",
    "                                                        rot=0,\n",
    "                                                        title=\"Ratio of 2-step Mutants that Regained EQU\",\n",
    "                                                       error_kw=dict(ecolor='k'))\n",
    "ax.set_xlabel(\"Treatment\")\n",
    "ax.set_ylabel(\"Ratio of 2-Step Mutants That Regained EQU\")\n",
    "fig = ax.get_figure()\n",
    "fig.savefig(\"2_step_regained_EQU.png\")"
   ]
  },
  {
   "cell_type": "code",
   "execution_count": 165,
   "metadata": {
    "collapsed": false
   },
   "outputs": [
    {
     "name": "stdout",
     "output_type": "stream",
     "text": [
      "30.8230368561\n",
      "1.14377074876e-11\n",
      "reject null of sameness (different)\n"
     ]
    }
   ],
   "source": [
    "f_stat, p_val = stats.f_oneway(c_i_2step_landscape['frac_gained_EQU'], \n",
    "                               n_i_2step_landscape['frac_gained_EQU'], \n",
    "                               p_i_2step_landscape['frac_gained_EQU'])\n",
    "print f_stat\n",
    "print p_val\n",
    "\n",
    "if p_val < (0.05/3): #bonferroni\n",
    "    print \"reject null of sameness (different)\"\n",
    "else:\n",
    "    print \"can't reject null of sameness\""
   ]
  },
  {
   "cell_type": "code",
   "execution_count": 166,
   "metadata": {
    "collapsed": false
   },
   "outputs": [
    {
     "name": "stdout",
     "output_type": "stream",
     "text": [
      "-6.11509403391\n",
      "9.65000437043e-10\n",
      "reject null of sameness (different)\n"
     ]
    }
   ],
   "source": [
    "z_stat, p_val = stats.ranksums(c_i_2step_landscape['frac_gained_EQU'], n_i_2step_landscape['frac_gained_EQU'])  \n",
    "print z_stat\n",
    "print p_val\n",
    "if p_val < (0.05/3): #bonferroni\n",
    "    print \"reject null of sameness (different)\"\n",
    "else:\n",
    "    print \"can't reject null of sameness\""
   ]
  },
  {
   "cell_type": "code",
   "execution_count": 167,
   "metadata": {
    "collapsed": false
   },
   "outputs": [
    {
     "name": "stdout",
     "output_type": "stream",
     "text": [
      "-7.38559972862\n",
      "1.51767729343e-13\n",
      "reject null of sameness (different)\n"
     ]
    }
   ],
   "source": [
    "z_stat, p_val = stats.ranksums(c_i_2step_landscape['frac_gained_EQU'], p_i_2step_landscape['frac_gained_EQU'])  \n",
    "print z_stat\n",
    "print p_val\n",
    "if p_val < (0.05/3): #bonferroni\n",
    "    print \"reject null of sameness (different)\"\n",
    "else:\n",
    "    print \"can't reject null of sameness\""
   ]
  },
  {
   "cell_type": "code",
   "execution_count": 168,
   "metadata": {
    "collapsed": false
   },
   "outputs": [
    {
     "name": "stdout",
     "output_type": "stream",
     "text": [
      "-0.725703636497\n",
      "0.468020472005\n",
      "can't reject null of sameness\n"
     ]
    }
   ],
   "source": [
    "z_stat, p_val = stats.ranksums(n_i_2step_landscape['frac_gained_EQU'], p_i_2step_landscape['frac_gained_EQU'])  \n",
    "print z_stat\n",
    "print p_val\n",
    "if p_val < (0.05/3): #bonferroni\n",
    "    print \"reject null of sameness (different)\"\n",
    "else:\n",
    "    print \"can't reject null of sameness\""
   ]
  },
  {
   "cell_type": "code",
   "execution_count": 159,
   "metadata": {
    "collapsed": false
   },
   "outputs": [
    {
     "data": {
      "image/png": "[encoded data removed]",
      "text/plain": [
       "<matplotlib.figure.Figure at 0x7f1d57a65e50>"
      ]
     },
     "metadata": {},
     "output_type": "display_data"
    }
   ],
   "source": [
    "c_regained_do_ci = bootstrap.ci(data=c_i_2step_landscape['FracDoesEQU'], statfunction=scipy.mean, n_samples=10000)\n",
    "n_regained_do_ci = bootstrap.ci(data=n_i_2step_landscape['FracDoesEQU'], statfunction=scipy.mean, n_samples=10000)\n",
    "p_regained_do_ci = bootstrap.ci(data=p_i_2step_landscape['FracDoesEQU'], statfunction=scipy.mean, n_samples=10000)\n",
    "\n",
    "regained_do_vals = [c_i_2step_landscape['FracDoesEQU'].mean(), \n",
    "              n_i_2step_landscape['FracDoesEQU'].mean(), \n",
    "              p_i_2step_landscape['FracDoesEQU'].mean(),\n",
    "              c_regained_do_ci[1]-c_regained_do_ci[0], \n",
    "              n_regained_do_ci[1]-n_regained_do_ci[0], \n",
    "              p_regained_do_ci[1]-p_regained_do_ci[0]]\n",
    "regained_do_vals\n",
    "\n",
    "sectioned = pd.DataFrame([regained_vals, regained_do_vals], \n",
    "                        columns = ['Control', 'Benign', 'Hostile', 'c_err', 'n_err', 'p_err'],\n",
    "                        index = ['Regained', 'Do EQU'])\n",
    "ax = sectioned[['Control', 'Benign', 'Hostile']].plot(kind='bar', \n",
    "                                                       yerr=sectioned[['c_err','n_err', 'p_err']].values.T,\n",
    "                                                       alpha = 0.5,\n",
    "                                                       #ylim=[0,0.025],\n",
    "                                                        rot=0,\n",
    "                                                        title=\"Ratio of 2-step Mutants that Regained EQU\",\n",
    "                                                       error_kw=dict(ecolor='k'))\n",
    "ax.set_xlabel(\"Treatment\")\n",
    "ax.set_ylabel(\"Ratio of 2-Step Mutants That Now DO EQU\")\n",
    "fig = ax.get_figure()\n",
    "fig.savefig(\"2_step_regained_and_do_EQU.png\")"
   ]
  },
  {
   "cell_type": "code",
   "execution_count": null,
   "metadata": {
    "collapsed": false
   },
   "outputs": [],
   "source": []
  },
  {
   "cell_type": "code",
   "execution_count": null,
   "metadata": {
    "collapsed": false
   },
   "outputs": [],
   "source": []
  },
  {
   "cell_type": "code",
   "execution_count": null,
   "metadata": {
    "collapsed": false
   },
   "outputs": [],
   "source": []
  },
  {
   "cell_type": "code",
   "execution_count": null,
   "metadata": {
    "collapsed": true
   },
   "outputs": [],
   "source": []
  }
 ],
 "metadata": {
  "kernelspec": {
   "display_name": "Python 2",
   "language": "python2",
   "name": "python2"
  },
  "language_info": {
   "codemirror_mode": {
    "name": "ipython",
    "version": 2
   },
   "file_extension": ".py",
   "mimetype": "text/x-python",
   "name": "python",
   "nbconvert_exporter": "python",
   "pygments_lexer": "ipython2",
   "version": "2.7.11"
  },
  "latex_envs": {
   "bibliofile": "biblio.bib",
   "cite_by": "apalike",
   "current_citInitial": 1,
   "eqLabelWithNumbers": true,
   "eqNumInitial": 0
  }
 },
 "nbformat": 4,
 "nbformat_minor": 0
}
